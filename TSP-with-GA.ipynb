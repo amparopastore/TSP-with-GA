{
 "cells": [
  {
   "cell_type": "markdown",
   "id": "0edb7775",
   "metadata": {},
   "source": [
    "Florida Atlantic University - CAP 4630 - Intro. to A.I. <br>\n",
    "Dr. Marques <br>\n",
    "June 21, 2023 <br>\n",
    "Amparo Godoy Pastore\n",
    "\n",
    "# Project 2: TSP using GA\n",
    "\n",
    "## Introduction\n",
    "\n",
    "The Traveling Salesman Problem (TSP) is a well-known optimization problem that involves finding the shortest possible route for a salesman to visit a set of cities and return to the starting city. With the number of potential routes growing exponentially, solving the TSP becomes computationally challenging. In this project, we will utilize the genetic algorithm (GA) to tackle this problem. This algorithm is an evolutionary search method inspired by natural selection. GAs iteratively generate and evolve a population of potential solutions, mimicking the processes of reproduction, crossover, and mutation. This allows us to explore different routes and gradually converge towards an optimal or suboptimal solution.\n",
    "\n",
    "**The Problem:**\n",
    "\n",
    "<div class=\"alert alert-block alert-danger\" align=\"center\">\n",
    "    <b>“Given a list of cities and the distances between each pair of cities, what is the shortest possible route that visits each city and returns to the origin city?”</b>\n",
    "</div>\n",
    "\n",
    "\n",
    "This implementation of GA to solve the TSP is similar to Eric Stoltz's OOP solution (see references). For this solution to the problem, the user enters the number of cities, and the program randomly generates their coordinates within an (x, y)\n",
    "plane of 200-by-200. Although the default is 25 cities, it's important to **note that our analysis used 20 cities** to try and reduce running time for the experiment at the end. The parameters the algorithm takes are explained below in more detail."
   ]
  },
  {
   "cell_type": "markdown",
   "id": "0734fd92",
   "metadata": {},
   "source": [
    "## Preliminaries"
   ]
  },
  {
   "cell_type": "code",
   "execution_count": 29,
   "id": "280c0155",
   "metadata": {},
   "outputs": [],
   "source": [
    "import numpy as np, random, operator, pandas as pd, matplotlib.pyplot as plt\n",
    "from IPython.display import Image\n",
    "\n",
    "# Global seed\n",
    "random.seed(123)"
   ]
  },
  {
   "cell_type": "markdown",
   "id": "19688c07",
   "metadata": {},
   "source": [
    "## Cities\n",
    "\n",
    "***How were the cities and distances represented (as a data structure)?***\n",
    "\n",
    "The cities the salesman travels to are represented using a class called `City`. It has three main attributes: `x`, `y`, and `id`. The `x` and `y` attributes represent the coordinates of the city on a 2D plane, defining its position within the geographical space. The `id` attribute serves as a unique identifier for each city, allowing easy identification and differentiation among multiple cities. It also has a `distance` function that utilizes the Euclidean distance formula to calculate the straight-line distance between two cities based on their coordinates."
   ]
  },
  {
   "cell_type": "code",
   "execution_count": 2,
   "id": "5e3a648a",
   "metadata": {},
   "outputs": [],
   "source": [
    "# Define a class City\n",
    "\n",
    "class City:\n",
    "    def __init__(self, x, y, id):\n",
    "        self.x = x\n",
    "        self.y = y\n",
    "        self.id = id\n",
    "        \n",
    "    def distance(self, city):\n",
    "        # Calculate the distance between two cities\n",
    "        x_dis = abs(self.x - city.x)\n",
    "        y_dis = abs(self.y - city.y)\n",
    "        distance = np.sqrt((x_dis ** 2) + (y_dis ** 2))\n",
    "        return distance\n",
    "    \n",
    "    def __repr__(self):\n",
    "        # Return a string representation of the City object\n",
    "        return \"(\" + str(self.id) + \",\" + str(self.x) + \",\" + str(self.y) + \")\""
   ]
  },
  {
   "cell_type": "code",
   "execution_count": 3,
   "id": "0c3f93de",
   "metadata": {},
   "outputs": [],
   "source": [
    "def generate_cities():\n",
    "    num_cities_input = input(\"How many cities will the salesman travel to? (default's to 25): \")\n",
    "    try:\n",
    "        num_cities = int(num_cities_input)\n",
    "    except ValueError:\n",
    "        num_cities = 25\n",
    "        \n",
    "    cities = []\n",
    "    for i in range(0, num_cities):\n",
    "        # Create a City object with random coordinates and an ID\n",
    "        cities.append(City(x=int(random.random()*200), y=int(random.random()*200), id=int(i)))\n",
    "    return cities"
   ]
  },
  {
   "cell_type": "code",
   "execution_count": 4,
   "id": "5dc7c30b",
   "metadata": {},
   "outputs": [],
   "source": [
    "# Just a function to plot the randomized cities and the best route\n",
    "def plot_cities_and_route(cities, route=None):\n",
    "    x = [city.x for city in cities]\n",
    "    y = [city.y for city in cities]\n",
    "    \n",
    "    plt.xticks([])\n",
    "    plt.yticks([])\n",
    "    plt.gca().spines['top'].set_visible(False)\n",
    "    plt.gca().spines['right'].set_visible(False)\n",
    "    plt.gca().spines['bottom'].set_visible(False)\n",
    "    plt.gca().spines['left'].set_visible(False)\n",
    "    plt.scatter(x, y, color='red', label='Cities')\n",
    "    plt.title('Cities')\n",
    "    \n",
    "    for city in cities:\n",
    "        plt.annotate(str(city.id), (city.x, city.y), textcoords=\"offset points\", xytext=(0,10), ha='center', va='center')\n",
    "    \n",
    "    if route:\n",
    "        # Plotting lines connecting cities\n",
    "        route_x = [city.x for city in route]\n",
    "        route_y = [city.y for city in route]\n",
    "        \n",
    "        for i in range(len(route) - 1):\n",
    "            plt.plot([route_x[i], route_x[i + 1]], [route_y[i], route_y[i + 1]], color='blue')\n",
    "\n",
    "        # Connect last city to the first city to complete the route\n",
    "        plt.plot([route_x[-1], route_x[0]], [route_y[-1], route_y[0]], color='blue')\n",
    "        plt.title('Route')\n",
    "    \n",
    "    # Display the plot\n",
    "    plt.show()"
   ]
  },
  {
   "cell_type": "markdown",
   "id": "37b7fef0",
   "metadata": {},
   "source": [
    "## Initial Population\n",
    "\n",
    "***How did you encode the solution space?***\n",
    "\n",
    "Each individual in the population is represented as a list, where each element corresponds to a unique city in the problem domain. To encode the solution space, the initial population is generated by randomly permuting the list of cities. This permutation ensures that each individual represents a distinct ordering of cities, thereby representing a potential solution or route for the traveling salesperson problem. Throughout the genetic algorithm process, the population of individuals (routes) evolves over generations, with each individual representing a distinct permutation of cities. By evaluating and evolving these permutations, the algorithm aims to find an optimal or near-optimal solution to the traveling salesperson problem.\n",
    "\n",
    "***How did you handle the creation of the initial population?***\n",
    "\n",
    "The creation of the initial population is handled by a function called `initial_pop`. This function generates a diverse set of initial routes (individuals) by randomly permuting the list of cities. The population size is determined by the `size` parameter passed to the function."
   ]
  },
  {
   "cell_type": "code",
   "execution_count": 5,
   "id": "d38b8f07",
   "metadata": {},
   "outputs": [],
   "source": [
    "def initial_pop(size, cities, set_seed=True):\n",
    "    population = []\n",
    "    \n",
    "    if set_seed:\n",
    "        random.seed(123)\n",
    "    \n",
    "    for i in range(0, size):\n",
    "        # Create a random route by shuffling the cities\n",
    "        route = random.sample(cities, len(cities))\n",
    "        population.append(route)\n",
    "        \n",
    "    return population"
   ]
  },
  {
   "cell_type": "markdown",
   "id": "f9e34c3b",
   "metadata": {},
   "source": [
    "## Fitness Evaluation\n",
    "\n",
    "***How did you compute the fitness score?***\n",
    "\n",
    "The fitness score is computed using the `Fitness` class, which takes a route as input and calculates the fitness score based on the total distance traveled along that route. The `route_distance` method calculates the total distance traveled along the route by iterating over each city in the route. It calculates and sums the distance between consecutive cities using the `distance` function of the `City` class. The `route_fitness` method computes the fitness score based on the inverse of the route distance. It divides 1 by the total route distance, so that lower distances (shorter routes) result in higher fitness scores."
   ]
  },
  {
   "cell_type": "code",
   "execution_count": 6,
   "id": "b8e2ea96",
   "metadata": {},
   "outputs": [],
   "source": [
    "class Fitness:\n",
    "    def __init__(self, route):\n",
    "        self.route = route\n",
    "        self.distance = 0\n",
    "        self.fitness = 0.0\n",
    "    \n",
    "    def route_distance(self):\n",
    "        if self.distance == 0:\n",
    "            path_distance = 0\n",
    "            for i in range(0, len(self.route)):\n",
    "                from_city = self.route[i]\n",
    "                to_city = self.route[(i + 1) % len(self.route)]  # Wrap around to the first city\n",
    "\n",
    "                # Calculate the distance between two cities in the route\n",
    "                path_distance += from_city.distance(to_city)\n",
    "            self.distance = path_distance\n",
    "        return self.distance\n",
    "\n",
    "\n",
    "    \n",
    "    def route_fitness(self):\n",
    "        if self.fitness == 0:\n",
    "            # Calculate the fitness of the route based on its distance\n",
    "            self.fitness = 1 / float(self.route_distance())\n",
    "        return self.fitness"
   ]
  },
  {
   "cell_type": "markdown",
   "id": "71a66cdf",
   "metadata": {},
   "source": [
    "## Parent Selection\n",
    "\n",
    "***Which parent selection strategy did you use? Why?***\n",
    "\n",
    "The parent selection strategy used is a form of Fitness Proportionate Selection, known as Roulette Wheel Selection. This strategy selects parents for mating based on their relative fitness scores. Fitter individuals have a greater pie on the wheel and therefore a greater chance of landing in front of the fixed point when the wheel is rotated. Therefore, the probability of choosing an individual depends directly on its fitness.\n",
    "\n",
    "The `selection` function implements the parent selection process. It first ranks the individuals in the population based on their fitness scores, storing the rankings in the `pop_ranked` list. The individuals are sorted in descending order of their fitness scores, with higher fitness values indicating better solutions.\n",
    "\n",
    "After ranking the individuals, the function constructs a cumulative probability distribution based on the fitness scores. This distribution is used to select parents by randomly sampling a value between 0 and 100. The selected value determines the position on the cumulative probability distribution, and the corresponding individual is chosen as a parent.\n",
    "\n",
    "The reason for using fitness proportionate selection is to bias the selection towards fitter individuals while still allowing some exploration of less fit individuals. By assigning higher probabilities of selection to individuals with higher fitness scores, the algorithm focuses on exploiting promising solutions, increasing the chances of preserving and improving good traits in the offspring. This method strikes a balance between exploration and exploitation, promoting convergence towards better solutions while maintaining diversity in the population."
   ]
  },
  {
   "cell_type": "code",
   "execution_count": 7,
   "id": "22f5d7e0",
   "metadata": {},
   "outputs": [],
   "source": [
    "def rank_routes(population):\n",
    "    fitnessResults = {}\n",
    "\n",
    "    # Calculate fitness for each route in the population\n",
    "    for i in range(0, len(population)):\n",
    "        fitnessResults[i] = Fitness(population[i]).route_fitness()\n",
    "\n",
    "    # Sort the routes based on their fitness in descending order\n",
    "    return sorted(fitnessResults.items(), key=operator.itemgetter(1), reverse=True)"
   ]
  },
  {
   "cell_type": "code",
   "execution_count": 8,
   "id": "39c8f7ce",
   "metadata": {},
   "outputs": [],
   "source": [
    "def selection(population, pop_ranked, num_elites):\n",
    "    selection_results = []\n",
    "    df = pd.DataFrame(np.array(pop_ranked), columns=[\"Index\", \"Fitness\"])\n",
    "    df['cum_sum'] = df.Fitness.cumsum()\n",
    "    df['cum_perc'] = 100 * df.cum_sum / df.Fitness.sum()\n",
    "    \n",
    "    for i in range(0, num_elites):\n",
    "        # Select the elite individuals based on their rank\n",
    "        selection_results.append(pop_ranked[i][0])\n",
    "        \n",
    "    for i in range(0, len(pop_ranked) - num_elites):\n",
    "        pick = 100 * random.random()\n",
    "        for i in range(0, len(pop_ranked)):\n",
    "            # Perform roulette wheel selection to pick individuals based on their fitness proportion\n",
    "            if pick <= df.iat[i, 3]:\n",
    "                selection_results.append(pop_ranked[i][0])\n",
    "                break\n",
    "                \n",
    "    # Create mating pool\n",
    "    matingpool = []\n",
    "    for i in range(0, len(selection_results)):\n",
    "        index = selection_results[i]\n",
    "        matingpool.append(population[index])\n",
    "        \n",
    "    return matingpool"
   ]
  },
  {
   "cell_type": "markdown",
   "id": "a7b60aa4",
   "metadata": {},
   "source": [
    "## Crossover\n",
    "\n",
    "***Which crossover strategy(ies) did you try? Which one worked out best?***\n",
    "\n",
    "The crossover strategy used is the Order Crossover (OX) method. OX crossover is a permutation-based crossover operator specifically designed for the traveling salesperson problem. The `ox_crossover` function implements this by taking two parent routes as input and generating a child route, partially preserving the order of cities from one parent and filling the remaining cities from the other parent.\n"
   ]
  },
  {
   "cell_type": "code",
   "execution_count": 9,
   "id": "609a8af7",
   "metadata": {},
   "outputs": [],
   "source": [
    "def ox_crossover(parents, num_elites):\n",
    "    offspring = []\n",
    "    length = len(parents) - num_elites\n",
    "    pool = random.sample(parents, len(parents))\n",
    "    \n",
    "    for i in range(0, num_elites):\n",
    "        # Add elite parents to the offspring\n",
    "        offspring.append(parents[i])\n",
    "    \n",
    "    for i in range(0, length):\n",
    "        parent1 = pool[i]\n",
    "        parent2 = pool[len(parents) - i - 1]\n",
    "        \n",
    "        # Perform crossover between parent1 and parent2\n",
    "        child = []\n",
    "        childP1 = []\n",
    "        childP2 = []\n",
    "        \n",
    "        geneA = int(random.random() * len(parent1))\n",
    "        geneB = int(random.random() * len(parent1))\n",
    "        \n",
    "        startGene = min(geneA, geneB)\n",
    "        endGene = max(geneA, geneB)\n",
    "    \n",
    "        for j in range(startGene, endGene):\n",
    "            childP1.append(parent1[j])\n",
    "            \n",
    "        childP2 = [item for item in parent2 if item not in childP1]\n",
    "    \n",
    "        child = childP1 + childP2\n",
    "        \n",
    "        # Add the child to the offspring\n",
    "        offspring.append(child)\n",
    "        \n",
    "    return offspring"
   ]
  },
  {
   "cell_type": "markdown",
   "id": "0bac144a",
   "metadata": {},
   "source": [
    "## Mutation\n",
    "\n",
    "***Which mutation strategy(ies) did you try? Which one worked out best?***\n",
    "\n",
    "The swap mutation strategy used selects two positions (cities) on the chromosome (route) at random, and interchange the values. It is implemented by the `mutate` function, which iterates over the individual's route and, with a certain probability (determined by the `mutation_rate`) swaps the current city with another randomly selected city in the route."
   ]
  },
  {
   "cell_type": "code",
   "execution_count": 10,
   "id": "b56440bf",
   "metadata": {},
   "outputs": [],
   "source": [
    "def mutate(individual, mutation_rate):\n",
    "    for swapped in range(len(individual)):\n",
    "        if random.random() < mutation_rate:\n",
    "            # Randomly swap cities within the individual\n",
    "            swapWith = int(random.random() * len(individual))\n",
    "            \n",
    "            city1 = individual[swapped]\n",
    "            city2 = individual[swapWith]\n",
    "            \n",
    "            individual[swapped] = city2\n",
    "            individual[swapWith] = city1\n",
    "    return individual"
   ]
  },
  {
   "cell_type": "code",
   "execution_count": 11,
   "id": "479cf1ad",
   "metadata": {},
   "outputs": [],
   "source": [
    "def mutate_population(population, mutation_rate):\n",
    "    mutated_pop = []\n",
    "    \n",
    "    for ind in range(0, len(population)):\n",
    "        # Mutate each individual in the population\n",
    "        mutated_ind = mutate(population[ind], mutation_rate)\n",
    "        mutated_pop.append(mutated_ind)\n",
    "        \n",
    "    return mutated_pop"
   ]
  },
  {
   "cell_type": "markdown",
   "id": "ef94c4e3",
   "metadata": {},
   "source": [
    "## Next Generation\n",
    "\n",
    "***Which strategy did you use for populating the next generation? Why?***\n",
    "\n",
    "To populate the next generation we used Elitism as the survivor selection technique. A certain number of top individuals from the current generation are passed on to the next generation based on their fitness scores. Elitism helps preserve the best solutions discovered so far and ensures they have a chance to propagate to subsequent generations. Offspring is generated for the remaining positions in the next generation through crossover."
   ]
  },
  {
   "cell_type": "code",
   "execution_count": 12,
   "id": "6fabfe21",
   "metadata": {},
   "outputs": [],
   "source": [
    "def next_gen(curr_gen, num_elites, mutation_rate):\n",
    "    pop_ranked = rank_routes(curr_gen)\n",
    "    matingpool = selection(curr_gen, pop_ranked, num_elites)\n",
    "    offspring = ox_crossover(matingpool, num_elites)\n",
    "    next_gen = mutate_population(offspring, mutation_rate)\n",
    "    return next_gen"
   ]
  },
  {
   "cell_type": "markdown",
   "id": "57e98649",
   "metadata": {},
   "source": [
    "## Genetic Algorithm\n",
    "\n",
    "\n",
    "***Which stopping condition did you use? Why?***\n",
    "\n",
    "The code specifies a maximum number of generations, as well as a maximum stagnation value, that is, the number of generations for which there has been no improvement in the population. By using the stagnation stopping condition, the algorithm can avoid unnecessary iterations and improve its efficiency. However, if the stagnation condition is not met, the algorithm will run for the specified number of generations."
   ]
  },
  {
   "cell_type": "code",
   "execution_count": 13,
   "id": "ef8c2689",
   "metadata": {},
   "outputs": [],
   "source": [
    "def genetic_algorithm(population, pop_size, num_elites, mutation_rate, generations, max_stagnation, print_results=True, set_seed=True):\n",
    "    \n",
    "    if print_results:\n",
    "        # Print the parameters used\n",
    "        print(\"Genetic Algorithm Parameters:\")\n",
    "        print(f\"Number of Cities: {len(population)}\")\n",
    "        print(f\"Population Size: {pop_size}\")\n",
    "        print(f\"Number of Elites: {num_elites}\")\n",
    "        print(f\"Mutation Rate: {mutation_rate}\")\n",
    "        print(f\"Number of Generations: {generations}\")\n",
    "        print(f\"Max Stagnation: {max_stagnation}\")\n",
    "        print(\"-----------------------------\")\n",
    "    \n",
    "    if set_seed:\n",
    "        curr_gen = initial_pop(pop_size, population)  # List of initial possible routes\n",
    "    else:\n",
    "        curr_gen = initial_pop(pop_size, population, set_seed=False)  # List of initial possible routes\n",
    "    initial_distance = 1 / rank_routes(curr_gen)[0][1]  # Initial best distance\n",
    "\n",
    "    best_fitness = rank_routes(curr_gen)[0][1]  # Best fitness score in the initial generation\n",
    "    stagnation_count = 0  # Counter for tracking the number of generations without improvement\n",
    "    \n",
    "    progress = []  # List to store the progression of distances\n",
    "    \n",
    "    for i in range(0, generations):\n",
    "        # Generate the next generation\n",
    "        curr_gen = next_gen(curr_gen, num_elites, mutation_rate)\n",
    "        \n",
    "        # Check if the best fitness score has improved\n",
    "        if rank_routes(curr_gen)[0][1] > best_fitness:\n",
    "            best_fitness = rank_routes(curr_gen)[0][1]\n",
    "            stagnation_count = 0\n",
    "        else:\n",
    "            stagnation_count += 1\n",
    "        \n",
    "        # Check if there has been no improvement for max_stagnation iterations\n",
    "        if stagnation_count >= max_stagnation:\n",
    "            if print_results:\n",
    "                print(\"\\nTerminating due to stagnation...\\n\")\n",
    "            break\n",
    "        \n",
    "        # Calculate and append the best distance to the progress list\n",
    "        best_distance = 1 / rank_routes(curr_gen)[0][1]\n",
    "        progress.append(best_distance)\n",
    "    \n",
    "    final_distance = 1 / rank_routes(curr_gen)[0][1]  # Final best distance\n",
    "    \n",
    "    # Get the best route from the final generation\n",
    "    bestRouteIndex = rank_routes(curr_gen)[0][0]\n",
    "    bestRoute = curr_gen[bestRouteIndex]\n",
    "    \n",
    "    if print_results:\n",
    "        print(f\"Initial distance: {initial_distance}\")\n",
    "        print(f\"Final distance: {final_distance}\")\n",
    "        print(\"Optimal route: \", [city.id for city in bestRoute])\n",
    "    \n",
    "    return bestRoute, progress, initial_distance, final_distance"
   ]
  },
  {
   "cell_type": "markdown",
   "id": "db46ce3b",
   "metadata": {},
   "source": [
    "Now, we create a function to record inputs and outputs into a dataframe. This will allow us to run some experiments and easily compare the outcomes."
   ]
  },
  {
   "cell_type": "code",
   "execution_count": 14,
   "id": "09f18bd9",
   "metadata": {},
   "outputs": [],
   "source": [
    "def record_experiment(params, initial_distance, final_distance, solution):\n",
    "    # Create a df to store the experiment results\n",
    "    df = pd.DataFrame(columns=['Population Size', 'Number of Elites', 'Mutation Rate', 'Number of Generations', 'Max Stagnation', 'Initial Distance', 'Final Distance', 'Best Route (city ID)'])\n",
    "\n",
    "    # Prepare the data to be inserted into the df\n",
    "    data = {\n",
    "        'Population Size': params['pop_size'],\n",
    "        'Number of Elites': params['num_elites'],\n",
    "        'Mutation Rate': params['mutation_rate'],\n",
    "        'Number of Generations': params['generations'],\n",
    "        'Max Stagnation': params['max_stagnation'],\n",
    "        'Initial Distance': [initial_distance],\n",
    "        'Final Distance': [final_distance],\n",
    "        'Best Route (city ID)': [','.join(str(city.id) for city in solution)]\n",
    "    }\n",
    "\n",
    "    # Concatenate the data into a new df\n",
    "    df = pd.concat([df, pd.DataFrame(data)], ignore_index=True)\n",
    "\n",
    "    return df"
   ]
  },
  {
   "cell_type": "markdown",
   "id": "562929e4",
   "metadata": {},
   "source": [
    "## Running the Genetic Algorithm\n",
    "\n",
    "First, let us run the algorithm to ensure it works properly. Here, we generate the list of city objects, and plot their distribution and IDs. "
   ]
  },
  {
   "cell_type": "code",
   "execution_count": 15,
   "id": "3eec7a4f",
   "metadata": {},
   "outputs": [
    {
     "name": "stdout",
     "output_type": "stream",
     "text": [
      "How many cities will the salesman travel to? (default's to 25): 20\n"
     ]
    },
    {
     "data": {
      "image/png": "[encoded data removed]",
      "text/plain": [
       "<Figure size 640x480 with 1 Axes>"
      ]
     },
     "metadata": {},
     "output_type": "display_data"
    }
   ],
   "source": [
    "# Generate cities \n",
    "cities = generate_cities()\n",
    "\n",
    "# Plot them\n",
    "plot_cities_and_route(cities)"
   ]
  },
  {
   "cell_type": "markdown",
   "id": "f5c26ab8",
   "metadata": {},
   "source": [
    "***What other parameters, design choices, initialization and configuration steps are relevant to your design and implementation?***\n",
    "\n",
    "The function `genetic_algorithm`is called with several parameters:\n",
    "\n",
    "- `population`: The population of cities on which the genetic algorithm will operate. It is passed as the cities list, which contains the initial set of cities.\n",
    "\n",
    "- `pop_size`: The size of the population, i.e., the number of individuals (routes) in each generation of the genetic algorithm.\n",
    "\n",
    "- `num_elites`: The number of top-performing individuals (elite parents) that will be preserved in each generation without undergoing crossover or mutation. These elites have the best fitness values and help maintain the best solutions throughout the generations.\n",
    "\n",
    "- `mutation_rate`: The probability of mutation for each gene (city) in an individual (route) during the genetic algorithm. A higher mutation rate increases the exploration of the solution space by introducing random changes.\n",
    "\n",
    "- `generations`: The total number of generations or maximum number of iterations for which the genetic algorithm can run.\n",
    "\n",
    "- `max_stagnation`: The maximum number of consecutive generations without any improvement in the population's fitness (stagnation). If the population fails to show improvement for this number of generations, the algorithm terminates early.\n",
    "\n",
    "- `print_results`: True by default. Set to False to not print results to screen.\n",
    "\n",
    "- `set_seed`: True by default. Set to False to get a randomized initial population every run (all other values constant). \n",
    "\n",
    "We will be introducing variations to these parameters later on to test their effect on the algorithm. For now, we are only focusing on testing whether the algorithm effectively reduces distance over the generations."
   ]
  },
  {
   "cell_type": "code",
   "execution_count": 28,
   "id": "6e2483d6",
   "metadata": {
    "scrolled": true
   },
   "outputs": [
    {
     "name": "stdout",
     "output_type": "stream",
     "text": [
      "How many cities will the salesman travel to? (default's to 25): 10\n",
      "Genetic Algorithm Parameters:\n",
      "Number of Cities: 10\n",
      "Population Size: 100\n",
      "Number of Elites: 20\n",
      "Mutation Rate: 0.01\n",
      "Number of Generations: 500\n",
      "Max Stagnation: 100\n",
      "-----------------------------\n",
      "\n",
      "Terminating due to stagnation...\n",
      "\n",
      "Initial distance: 640.6857133206012\n",
      "Final distance: 502.1045250249281\n",
      "Optimal route:  [5, 4, 9, 7, 3, 2, 1, 8, 0, 6]\n"
     ]
    }
   ],
   "source": [
    "# Generate cities \n",
    "cities = generate_cities()\n",
    "\n",
    "# Set the parameters \n",
    "params = {\n",
    "    'pop_size': 100,\n",
    "    'num_elites': 20,\n",
    "    'mutation_rate': 0.01,\n",
    "    'generations': 500,\n",
    "    'max_stagnation': 100\n",
    "}\n",
    "\n",
    "# Run the algorithm\n",
    "solution, progression, ini_d, fin_d = genetic_algorithm(population=cities, **params, set_seed=False)"
   ]
  },
  {
   "cell_type": "markdown",
   "id": "4f63a3ea",
   "metadata": {},
   "source": [
    "The results above indicate that the genetic algorithm was able to find an optimized route that minimized the distance traveled among the given set of cities. The algorithm's performance demonstrates its effectiveness in solving the traveling salesman problem."
   ]
  },
  {
   "cell_type": "markdown",
   "id": "30be297d",
   "metadata": {},
   "source": [
    "## Plot Optimal Route\n",
    "\n",
    "Let's visualize the solution, represented below by the blue line connecting the red dots."
   ]
  },
  {
   "cell_type": "code",
   "execution_count": 17,
   "id": "5eed7563",
   "metadata": {},
   "outputs": [
    {
     "data": {
      "image/png": "[encoded data removed]",
      "text/plain": [
       "<Figure size 640x480 with 1 Axes>"
      ]
     },
     "metadata": {},
     "output_type": "display_data"
    }
   ],
   "source": [
    "plot_cities_and_route(cities, route=solution)"
   ]
  },
  {
   "cell_type": "markdown",
   "id": "8f9f9d93",
   "metadata": {},
   "source": [
    "## Plot Progress\n",
    "\n",
    "The following graph shows how route distance changes over the generations. As we can see, it drops significantly over the first 50 generations and then continues to decrease at a slower pace. The graph also shows the stagnation period that terminated the algorithm before it reached the 500 generation mark."
   ]
  },
  {
   "cell_type": "code",
   "execution_count": 18,
   "id": "f149d5ff",
   "metadata": {
    "scrolled": true
   },
   "outputs": [
    {
     "data": {
      "image/png": "[encoded data removed]",
      "text/plain": [
       "<Figure size 640x480 with 1 Axes>"
      ]
     },
     "metadata": {},
     "output_type": "display_data"
    }
   ],
   "source": [
    "# Plot progression of route distance through the generations\n",
    "plt.plot(progression, color='blue')\n",
    "plt.ylabel('Distance')\n",
    "plt.xlabel('Generation')\n",
    "plt.title('Progression of route distance through the generations')\n",
    "plt.show()"
   ]
  },
  {
   "cell_type": "markdown",
   "id": "00bf306f",
   "metadata": {},
   "source": [
    "## Experiments 1 & Results\n",
    "\n",
    "***Which (simple) experiments have you run to observe the impact of different design decisions and parameter values? Post their results and your comments***\n",
    "\n",
    "In this section, we present the experimental results of running the genetic algorithm (GA) with various parameter combinations for the optimization problem at hand. The purpose of this experimentation is to investigate the impact of different parameter settings on the performance of the GA. Specifically, we aim to determine how variations in population size, number of elites, mutation rate, number of generations, and maximum stagnation affect the algorithm's ability to find optimal or near-optimal solutions.\n",
    "\n",
    "To accomplish this, we conducted multiple runs of the GA, each time using a different set of parameter values. The algorithm was applied to a diverse set of problem instances, and the resulting solutions were evaluated based on the initial and final distances achieved. It is important to note that we did not explicitly capture additional statistics such as the number of generations required to reach a near-optimal solution or whether the algorithm terminated due to stagnation. We recorded the experimental results, including the parameter settings, initial distance, final distance, and the obtained solution, for each run."
   ]
  },
  {
   "cell_type": "code",
   "execution_count": 19,
   "id": "edc282d9",
   "metadata": {},
   "outputs": [],
   "source": [
    "# Define the parameter combinations to run our experiment\n",
    "parameter_combinations = [\n",
    "    {'pop_size': 100, 'num_elites': 20, 'mutation_rate': 0.01, 'generations': 500, 'max_stagnation': 100}, # Control or baseline\n",
    "    {'pop_size': 30, 'num_elites': 20, 'mutation_rate': 0.01, 'generations': 500, 'max_stagnation': 100},\n",
    "    {'pop_size': 200, 'num_elites': 20, 'mutation_rate': 0.01, 'generations': 500, 'max_stagnation': 100},\n",
    "    {'pop_size': 100, 'num_elites': 3, 'mutation_rate': 0.01, 'generations': 500, 'max_stagnation': 100},\n",
    "    {'pop_size': 100, 'num_elites': 50, 'mutation_rate': 0.01, 'generations': 500, 'max_stagnation': 100},\n",
    "    {'pop_size': 100, 'num_elites': 20, 'mutation_rate': 0.001, 'generations': 500, 'max_stagnation': 100},\n",
    "    {'pop_size': 100, 'num_elites': 20, 'mutation_rate': 0.1, 'generations': 500, 'max_stagnation': 100},\n",
    "    {'pop_size': 100, 'num_elites': 20, 'mutation_rate': 0.01, 'generations': 250, 'max_stagnation': 100},\n",
    "    {'pop_size': 100, 'num_elites': 20, 'mutation_rate': 0.01, 'generations': 1000, 'max_stagnation': 100},\n",
    "    {'pop_size': 100, 'num_elites': 20, 'mutation_rate': 0.01, 'generations': 500, 'max_stagnation': 10},\n",
    "    {'pop_size': 100, 'num_elites': 20, 'mutation_rate': 0.01, 'generations': 500, 'max_stagnation': 200},\n",
    "    {'pop_size': 30, 'num_elites': 3, 'mutation_rate': 0.001, 'generations': 250, 'max_stagnation': 10},\n",
    "    {'pop_size': 200, 'num_elites': 50, 'mutation_rate': 0.1, 'generations': 1000, 'max_stagnation': 200}\n",
    "]"
   ]
  },
  {
   "cell_type": "code",
   "execution_count": 20,
   "id": "0c22301f",
   "metadata": {},
   "outputs": [],
   "source": [
    "# Initialize an empty df\n",
    "experiment_df = pd.DataFrame()\n",
    "\n",
    "# Iterate over the parameter combinations\n",
    "for params in parameter_combinations:\n",
    "    # Run the genetic algorithm\n",
    "    solution, progression, initial_distance, final_distance = genetic_algorithm(population=cities, **params, print_results=False)\n",
    "\n",
    "    # Record the experiment\n",
    "    experiment_row = record_experiment(params, initial_distance, final_distance, solution)\n",
    "\n",
    "    # Append the experiment row to the df\n",
    "    experiment_df = pd.concat([experiment_df, experiment_row], ignore_index=True)\n",
    "\n",
    "# Save the df to a csv file\n",
    "experiment_df.to_csv('experiment_results.csv', index=False)"
   ]
  },
  {
   "cell_type": "code",
   "execution_count": 21,
   "id": "bf321c4d",
   "metadata": {},
   "outputs": [
    {
     "data": {
      "text/html": [
       "<div>\n",
       "<style scoped>\n",
       "    .dataframe tbody tr th:only-of-type {\n",
       "        vertical-align: middle;\n",
       "    }\n",
       "\n",
       "    .dataframe tbody tr th {\n",
       "        vertical-align: top;\n",
       "    }\n",
       "\n",
       "    .dataframe thead th {\n",
       "        text-align: right;\n",
       "    }\n",
       "</style>\n",
       "<table border=\"1\" class=\"dataframe\">\n",
       "  <thead>\n",
       "    <tr style=\"text-align: right;\">\n",
       "      <th></th>\n",
       "      <th>Population Size</th>\n",
       "      <th>Number of Elites</th>\n",
       "      <th>Mutation Rate</th>\n",
       "      <th>Number of Generations</th>\n",
       "      <th>Max Stagnation</th>\n",
       "      <th>Initial Distance</th>\n",
       "      <th>Final Distance</th>\n",
       "      <th>Best Route (city ID)</th>\n",
       "    </tr>\n",
       "  </thead>\n",
       "  <tbody>\n",
       "    <tr>\n",
       "      <th>0</th>\n",
       "      <td>100</td>\n",
       "      <td>20</td>\n",
       "      <td>0.010</td>\n",
       "      <td>500</td>\n",
       "      <td>100</td>\n",
       "      <td>1603.173187</td>\n",
       "      <td>789.256345</td>\n",
       "      <td>10,4,19,14,17,15,12,11,16,9,18,5,0,6,1,7,3,13,8,2</td>\n",
       "    </tr>\n",
       "    <tr>\n",
       "      <th>1</th>\n",
       "      <td>30</td>\n",
       "      <td>20</td>\n",
       "      <td>0.010</td>\n",
       "      <td>500</td>\n",
       "      <td>100</td>\n",
       "      <td>1798.556840</td>\n",
       "      <td>1052.827330</td>\n",
       "      <td>4,8,1,13,18,9,0,6,7,5,11,12,15,16,17,14,19,3,2,10</td>\n",
       "    </tr>\n",
       "    <tr>\n",
       "      <th>2</th>\n",
       "      <td>200</td>\n",
       "      <td>20</td>\n",
       "      <td>0.010</td>\n",
       "      <td>500</td>\n",
       "      <td>100</td>\n",
       "      <td>1603.173187</td>\n",
       "      <td>789.256345</td>\n",
       "      <td>4,19,14,17,15,12,11,16,9,18,5,0,6,1,7,3,13,8,2,10</td>\n",
       "    </tr>\n",
       "    <tr>\n",
       "      <th>3</th>\n",
       "      <td>100</td>\n",
       "      <td>3</td>\n",
       "      <td>0.010</td>\n",
       "      <td>500</td>\n",
       "      <td>100</td>\n",
       "      <td>1603.173187</td>\n",
       "      <td>803.635037</td>\n",
       "      <td>6,0,5,18,9,16,12,11,15,17,14,19,4,2,10,8,13,3,7,1</td>\n",
       "    </tr>\n",
       "    <tr>\n",
       "      <th>4</th>\n",
       "      <td>100</td>\n",
       "      <td>50</td>\n",
       "      <td>0.010</td>\n",
       "      <td>500</td>\n",
       "      <td>100</td>\n",
       "      <td>1603.173187</td>\n",
       "      <td>773.841527</td>\n",
       "      <td>10,4,13,3,19,14,17,15,12,11,16,9,18,5,0,6,1,7,8,2</td>\n",
       "    </tr>\n",
       "    <tr>\n",
       "      <th>5</th>\n",
       "      <td>100</td>\n",
       "      <td>20</td>\n",
       "      <td>0.001</td>\n",
       "      <td>500</td>\n",
       "      <td>100</td>\n",
       "      <td>1603.173187</td>\n",
       "      <td>773.841527</td>\n",
       "      <td>10,4,13,3,19,14,17,15,12,11,16,9,18,5,0,6,1,7,8,2</td>\n",
       "    </tr>\n",
       "    <tr>\n",
       "      <th>6</th>\n",
       "      <td>100</td>\n",
       "      <td>20</td>\n",
       "      <td>0.100</td>\n",
       "      <td>500</td>\n",
       "      <td>100</td>\n",
       "      <td>1603.173187</td>\n",
       "      <td>1496.050442</td>\n",
       "      <td>10,6,0,14,12,11,16,18,15,17,13,9,4,2,8,5,1,7,3,19</td>\n",
       "    </tr>\n",
       "    <tr>\n",
       "      <th>7</th>\n",
       "      <td>100</td>\n",
       "      <td>20</td>\n",
       "      <td>0.010</td>\n",
       "      <td>250</td>\n",
       "      <td>100</td>\n",
       "      <td>1603.173187</td>\n",
       "      <td>789.256345</td>\n",
       "      <td>10,4,19,14,17,15,12,11,16,9,18,5,0,6,1,7,3,13,8,2</td>\n",
       "    </tr>\n",
       "    <tr>\n",
       "      <th>8</th>\n",
       "      <td>100</td>\n",
       "      <td>20</td>\n",
       "      <td>0.010</td>\n",
       "      <td>1000</td>\n",
       "      <td>100</td>\n",
       "      <td>1603.173187</td>\n",
       "      <td>789.256345</td>\n",
       "      <td>10,4,19,14,17,15,12,11,16,9,18,5,0,6,1,7,3,13,8,2</td>\n",
       "    </tr>\n",
       "    <tr>\n",
       "      <th>9</th>\n",
       "      <td>100</td>\n",
       "      <td>20</td>\n",
       "      <td>0.010</td>\n",
       "      <td>500</td>\n",
       "      <td>10</td>\n",
       "      <td>1603.173187</td>\n",
       "      <td>813.801423</td>\n",
       "      <td>4,2,10,19,14,17,15,12,11,16,9,18,5,0,6,7,1,8,13,3</td>\n",
       "    </tr>\n",
       "    <tr>\n",
       "      <th>10</th>\n",
       "      <td>100</td>\n",
       "      <td>20</td>\n",
       "      <td>0.010</td>\n",
       "      <td>500</td>\n",
       "      <td>200</td>\n",
       "      <td>1603.173187</td>\n",
       "      <td>789.256345</td>\n",
       "      <td>4,19,14,17,15,12,11,16,9,18,5,0,6,1,7,3,13,8,2,10</td>\n",
       "    </tr>\n",
       "    <tr>\n",
       "      <th>11</th>\n",
       "      <td>30</td>\n",
       "      <td>3</td>\n",
       "      <td>0.001</td>\n",
       "      <td>250</td>\n",
       "      <td>10</td>\n",
       "      <td>1798.556840</td>\n",
       "      <td>1020.847218</td>\n",
       "      <td>6,0,1,8,10,4,2,13,3,19,16,11,12,15,17,14,18,9,5,7</td>\n",
       "    </tr>\n",
       "    <tr>\n",
       "      <th>12</th>\n",
       "      <td>200</td>\n",
       "      <td>50</td>\n",
       "      <td>0.100</td>\n",
       "      <td>1000</td>\n",
       "      <td>200</td>\n",
       "      <td>1603.173187</td>\n",
       "      <td>1359.162360</td>\n",
       "      <td>0,14,9,18,16,12,11,17,15,5,3,1,7,8,2,10,4,6,13,19</td>\n",
       "    </tr>\n",
       "  </tbody>\n",
       "</table>\n",
       "</div>"
      ],
      "text/plain": [
       "    Population Size  Number of Elites  Mutation Rate  Number of Generations   \n",
       "0               100                20          0.010                    500  \\\n",
       "1                30                20          0.010                    500   \n",
       "2               200                20          0.010                    500   \n",
       "3               100                 3          0.010                    500   \n",
       "4               100                50          0.010                    500   \n",
       "5               100                20          0.001                    500   \n",
       "6               100                20          0.100                    500   \n",
       "7               100                20          0.010                    250   \n",
       "8               100                20          0.010                   1000   \n",
       "9               100                20          0.010                    500   \n",
       "10              100                20          0.010                    500   \n",
       "11               30                 3          0.001                    250   \n",
       "12              200                50          0.100                   1000   \n",
       "\n",
       "    Max Stagnation  Initial Distance  Final Distance   \n",
       "0              100       1603.173187      789.256345  \\\n",
       "1              100       1798.556840     1052.827330   \n",
       "2              100       1603.173187      789.256345   \n",
       "3              100       1603.173187      803.635037   \n",
       "4              100       1603.173187      773.841527   \n",
       "5              100       1603.173187      773.841527   \n",
       "6              100       1603.173187     1496.050442   \n",
       "7              100       1603.173187      789.256345   \n",
       "8              100       1603.173187      789.256345   \n",
       "9               10       1603.173187      813.801423   \n",
       "10             200       1603.173187      789.256345   \n",
       "11              10       1798.556840     1020.847218   \n",
       "12             200       1603.173187     1359.162360   \n",
       "\n",
       "                                 Best Route (city ID)  \n",
       "0   10,4,19,14,17,15,12,11,16,9,18,5,0,6,1,7,3,13,8,2  \n",
       "1   4,8,1,13,18,9,0,6,7,5,11,12,15,16,17,14,19,3,2,10  \n",
       "2   4,19,14,17,15,12,11,16,9,18,5,0,6,1,7,3,13,8,2,10  \n",
       "3   6,0,5,18,9,16,12,11,15,17,14,19,4,2,10,8,13,3,7,1  \n",
       "4   10,4,13,3,19,14,17,15,12,11,16,9,18,5,0,6,1,7,8,2  \n",
       "5   10,4,13,3,19,14,17,15,12,11,16,9,18,5,0,6,1,7,8,2  \n",
       "6   10,6,0,14,12,11,16,18,15,17,13,9,4,2,8,5,1,7,3,19  \n",
       "7   10,4,19,14,17,15,12,11,16,9,18,5,0,6,1,7,3,13,8,2  \n",
       "8   10,4,19,14,17,15,12,11,16,9,18,5,0,6,1,7,3,13,8,2  \n",
       "9   4,2,10,19,14,17,15,12,11,16,9,18,5,0,6,7,1,8,13,3  \n",
       "10  4,19,14,17,15,12,11,16,9,18,5,0,6,1,7,3,13,8,2,10  \n",
       "11  6,0,1,8,10,4,2,13,3,19,16,11,12,15,17,14,18,9,5,7  \n",
       "12  0,14,9,18,16,12,11,17,15,5,3,1,7,8,2,10,4,6,13,19  "
      ]
     },
     "execution_count": 21,
     "metadata": {},
     "output_type": "execute_result"
    }
   ],
   "source": [
    "# Retrieve the df from the csv file\n",
    "experiment_df = pd.read_csv('experiment_results.csv')\n",
    "\n",
    "# Print it\n",
    "experiment_df"
   ]
  },
  {
   "cell_type": "markdown",
   "id": "9a54c5ec",
   "metadata": {},
   "source": [
    "For our experiment we first run the algorithm with \"baseline\" parameters, inspired by Eric Stoltz's solution. Each run after that, isolates a parameter by increasing and decreasing it to evaluate its effect. The last two runs decrease and increase all values respectively (both yielding suboptimal results). Again, please note that we used 20 cities for our test.\n",
    "\n",
    "Analyzing the results, we can observe that different parameter combinations lead to varying levels of success in finding shorter routes. The baseline (run 0), with a population size of 100, 20 elites and a mutation rate of 0.01 resulted in a significant improvement, reducing the initial distance of 1603.17 to a final distance of 789.26. On the other hand, in row 6, a higher mutation rate of 0.1 caused the algorithm to struggle, resulting in a less optimal solution with a final distance of 1496.05. \n",
    "\n",
    "These results demonstrate the sensitivity of the genetic algorithm to the choice of parameters and highlight the importance of fine-tuning them to achieve the best performance. By systematically exploring different parameter combinations, it is possible to find configurations that lead to significant improvements in finding shorter routes."
   ]
  },
  {
   "cell_type": "markdown",
   "id": "f979b621",
   "metadata": {},
   "source": [
    "## Experiments 2 & Representative Screenshots\n",
    "\n",
    "Here we set seed to False, and run the algorithm with different numbers of cities.\n",
    "\n",
    "| ***RUN 1***     | ***RUN 2***     |\n",
    "|-----------------|-----------------|\n",
    "| ![image-11.png](Screenshot%202023-06-21%20181801.png) | ![image-7.png](Screenshot%202023-06-21%20182433.png) |\n",
    "\n",
    "| ***RUN 3***     | ***RUN 4***     |\n",
    "|-----------------|-----------------|\n",
    "| ![image-8.png](Screenshot%202023-06-21%20182527.png)  | ![image-9.png](Screenshot%202023-06-21%20182634.png)  |\n",
    "\n",
    "| ***RUN 5***     |\n",
    "|-----------------|\n",
    "| ![image-10.png](Screenshot%202023-06-21%20182756.png) |"
   ]
  },
  {
   "cell_type": "markdown",
   "id": "ece23c07",
   "metadata": {},
   "source": [
    "## Future Improvements\n",
    "\n",
    "While the current implementation of the genetic algorithm has shown promising results in solving the traveling salesman problem, there are several potential areas of improvement. Two of the most interesting ones are:\n",
    "\n",
    "1. **Dynamic Parameter Adaptation:** The use of dynamic parameter adaptation techniques during the execution of the genetic algorithm based on the evolving characteristics of the population or problem instance can potentially enhance the algorithm's performance and adaptability across different problem domains.\n",
    "\n",
    "2. **Real-world Dataset Evaluation:** This involves evaluating the performance of the genetic algorithm on real-world datasets of varying sizes and complexities and it would provide insights into its generalization capabilities and highlight potential areas for improvement or adaptation."
   ]
  },
  {
   "cell_type": "markdown",
   "id": "afe0ad6a",
   "metadata": {},
   "source": [
    "## References\n",
    "\n",
    "- Golinko, Eric. \"Evolution of a Salesman: A Complete Genetic Algorithm Tutorial for Python.\" Towards Data Science, [https://towardsdatascience.com/evolution-of-a-salesman-a-complete-genetic-algorithm-tutorial-for-python-6fe5d2b3ca35]\n",
    "\n",
    "\n",
    "- \"Genetic Algorithms - Introduction.\" Tutorialspoint, [https://www.tutorialspoint.com/genetic_algorithms/genetic_algorithms_introduction.htm]\n",
    "\n",
    "\n",
    "- \"Travelling Salesman Problem.\" Wikipedia, [https://en.wikipedia.org/wiki/Travelling_salesman_problem]\n",
    "\n",
    "\n"
   ]
  },
  {
   "cell_type": "code",
   "execution_count": null,
   "id": "defa3407",
   "metadata": {},
   "outputs": [],
   "source": []
  }
 ],
 "metadata": {
  "kernelspec": {
   "display_name": "Python 3 (ipykernel)",
   "language": "python",
   "name": "python3"
  },
  "language_info": {
   "codemirror_mode": {
    "name": "ipython",
    "version": 3
   },
   "file_extension": ".py",
   "mimetype": "text/x-python",
   "name": "python",
   "nbconvert_exporter": "python",
   "pygments_lexer": "ipython3",
   "version": "3.10.8"
  }
 },
 "nbformat": 4,
 "nbformat_minor": 5
}
